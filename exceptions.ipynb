{
 "cells": [
  {
   "cell_type": "code",
   "execution_count": 1,
   "metadata": {},
   "outputs": [
    {
     "name": "stdout",
     "output_type": "stream",
     "text": [
      "program strated.\n",
      "Enter a value:23\n",
      "Enter b value:24\n",
      "before conversion a=23,b=24\n",
      "after conversion a=23,b=24\n",
      "result=0\n",
      "other statements in  program\n",
      "program ended.\n"
     ]
    }
   ],
   "source": [
    "print \"program strated.\"\n",
    "a=raw_input(\"Enter a value:\")\n",
    "b=raw_input(\"Enter b value:\")\n",
    "print \"before conversion a=%s,b=%s\"%(a,b)\n",
    "a=int(a)\n",
    "b=int(b)\n",
    "print \"after conversion a=%s,b=%s\"%(a,b)\n",
    "res=a/b\n",
    "print \"result=%s\"%(res)\n",
    "print \"other statements in  program\"\n",
    "print \"program ended.\"\n"
   ]
  },
  {
   "cell_type": "code",
   "execution_count": 2,
   "metadata": {},
   "outputs": [
    {
     "name": "stdout",
     "output_type": "stream",
     "text": [
      "program strated.\n",
      "Enter a value:12.34\n",
      "Enter b value:54.56\n",
      "before conversion a=12.34,b=54.56\n"
     ]
    },
    {
     "ename": "ValueError",
     "evalue": "invalid literal for int() with base 10: '12.34'",
     "output_type": "error",
     "traceback": [
      "\u001b[1;31m---------------------------------------------------------------------------\u001b[0m",
      "\u001b[1;31mValueError\u001b[0m                                Traceback (most recent call last)",
      "\u001b[1;32m<ipython-input-2-72d64137e784>\u001b[0m in \u001b[0;36m<module>\u001b[1;34m()\u001b[0m\n\u001b[0;32m      3\u001b[0m \u001b[0mb\u001b[0m\u001b[1;33m=\u001b[0m\u001b[0mraw_input\u001b[0m\u001b[1;33m(\u001b[0m\u001b[1;34m\"Enter b value:\"\u001b[0m\u001b[1;33m)\u001b[0m\u001b[1;33m\u001b[0m\u001b[0m\n\u001b[0;32m      4\u001b[0m \u001b[1;32mprint\u001b[0m \u001b[1;34m\"before conversion a=%s,b=%s\"\u001b[0m\u001b[1;33m%\u001b[0m\u001b[1;33m(\u001b[0m\u001b[0ma\u001b[0m\u001b[1;33m,\u001b[0m\u001b[0mb\u001b[0m\u001b[1;33m)\u001b[0m\u001b[1;33m\u001b[0m\u001b[0m\n\u001b[1;32m----> 5\u001b[1;33m \u001b[0ma\u001b[0m\u001b[1;33m=\u001b[0m\u001b[0mint\u001b[0m\u001b[1;33m(\u001b[0m\u001b[0ma\u001b[0m\u001b[1;33m)\u001b[0m\u001b[1;33m\u001b[0m\u001b[0m\n\u001b[0m\u001b[0;32m      6\u001b[0m \u001b[0mb\u001b[0m\u001b[1;33m=\u001b[0m\u001b[0mint\u001b[0m\u001b[1;33m(\u001b[0m\u001b[0mb\u001b[0m\u001b[1;33m)\u001b[0m\u001b[1;33m\u001b[0m\u001b[0m\n\u001b[0;32m      7\u001b[0m \u001b[1;32mprint\u001b[0m \u001b[1;34m\"after conversion a=%s,b=%s\"\u001b[0m\u001b[1;33m%\u001b[0m\u001b[1;33m(\u001b[0m\u001b[0ma\u001b[0m\u001b[1;33m,\u001b[0m\u001b[0mb\u001b[0m\u001b[1;33m)\u001b[0m\u001b[1;33m\u001b[0m\u001b[0m\n",
      "\u001b[1;31mValueError\u001b[0m: invalid literal for int() with base 10: '12.34'"
     ]
    }
   ],
   "source": [
    "print \"program strated.\"\n",
    "a=raw_input(\"Enter a value:\")\n",
    "b=raw_input(\"Enter b value:\")\n",
    "print \"before conversion a=%s,b=%s\"%(a,b)\n",
    "a=int(a)\n",
    "b=int(b)\n",
    "print \"after conversion a=%s,b=%s\"%(a,b)\n",
    "res=a/b\n",
    "print \"result=%s\"%(res)\n",
    "print \"other statements in  program\"\n",
    "print \"program ended.\"\n"
   ]
  },
  {
   "cell_type": "code",
   "execution_count": 4,
   "metadata": {},
   "outputs": [
    {
     "name": "stdout",
     "output_type": "stream",
     "text": [
      "program strated.\n",
      "Enter a value:12\n",
      "Enter b value:0\n",
      "before conversion a=12,b=0\n",
      "after conversion a=12.0,b=0.0\n",
      "Invalid input\n",
      "something went wrong\n"
     ]
    }
   ],
   "source": [
    "try:\n",
    "    print \"program strated.\"\n",
    "    a=raw_input(\"Enter a value:\")\n",
    "    b=raw_input(\"Enter b value:\")\n",
    "    print \"before conversion a=%s,b=%s\"%(a,b)\n",
    "    a=float(a)\n",
    "    b=float(b)\n",
    "    print \"after conversion a=%s,b=%s\"%(a,b)\n",
    "    res=a/b\n",
    "    print \"result=%s\"%(res)\n",
    "    print \"other statements in  program\"\n",
    "    print \"program ended.\"\n",
    "\n",
    "except:\n",
    "    print \"Invalid input\"\n",
    "    print \"something went wrong\""
   ]
  },
  {
   "cell_type": "code",
   "execution_count": 5,
   "metadata": {},
   "outputs": [
    {
     "name": "stdout",
     "output_type": "stream",
     "text": [
      "program strated.\n",
      "Enter a value:12\n",
      "Enter b value:6\n",
      "before conversion a=12,b=6\n",
      "after conversion a=12.0,b=6.0\n",
      "result=2.0\n",
      "other statements in  program\n",
      "program ended.\n",
      "main after except\n"
     ]
    }
   ],
   "source": [
    "try:\n",
    "    print \"program strated.\"\n",
    "    a=raw_input(\"Enter a value:\")\n",
    "    b=raw_input(\"Enter b value:\")\n",
    "    print \"before conversion a=%s,b=%s\"%(a,b)\n",
    "    a=float(a)\n",
    "    b=float(b)\n",
    "    print \"after conversion a=%s,b=%s\"%(a,b)\n",
    "    res=a/b\n",
    "    print \"result=%s\"%(res)\n",
    "    print \"other statements in  program\"\n",
    "    print \"program ended.\"\n",
    "\n",
    "except:\n",
    "    print \"Invalid input\"\n",
    "    print \"something went wrong\"\n",
    "print \"main after except\""
   ]
  },
  {
   "cell_type": "code",
   "execution_count": 6,
   "metadata": {},
   "outputs": [
    {
     "name": "stdout",
     "output_type": "stream",
     "text": [
      "program strated.\n",
      "Enter a value:12\n",
      "Enter b value:nddn\n",
      "before conversion a=12,b=nddn\n",
      "Invalid input\n",
      "something went wrong\n",
      "main after except\n"
     ]
    }
   ],
   "source": [
    "try:\n",
    "    print \"program strated.\"\n",
    "    a=raw_input(\"Enter a value:\")\n",
    "    b=raw_input(\"Enter b value:\")\n",
    "    print \"before conversion a=%s,b=%s\"%(a,b)\n",
    "    a=float(a)\n",
    "    b=float(b)\n",
    "    print \"after conversion a=%s,b=%s\"%(a,b)\n",
    "    res=a/b\n",
    "    print \"result=%s\"%(res)\n",
    "    print \"other statements in  program\"\n",
    "    print \"program ended.\"\n",
    "\n",
    "except:\n",
    "    print \"Invalid input\"\n",
    "    print \"something went wrong\"\n",
    "print \"main after except\""
   ]
  },
  {
   "cell_type": "code",
   "execution_count": null,
   "metadata": {},
   "outputs": [],
   "source": []
  }
 ],
 "metadata": {
  "kernelspec": {
   "display_name": "Python 2",
   "language": "python",
   "name": "python2"
  },
  "language_info": {
   "codemirror_mode": {
    "name": "ipython",
    "version": 2
   },
   "file_extension": ".py",
   "mimetype": "text/x-python",
   "name": "python",
   "nbconvert_exporter": "python",
   "pygments_lexer": "ipython2",
   "version": "2.7.15"
  }
 },
 "nbformat": 4,
 "nbformat_minor": 2
}
