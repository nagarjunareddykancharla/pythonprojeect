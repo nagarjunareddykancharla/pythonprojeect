{
 "cells": [
  {
   "cell_type": "code",
   "execution_count": 1,
   "metadata": {},
   "outputs": [
    {
     "name": "stdout",
     "output_type": "stream",
     "text": [
      "Number of people: 6\n",
      "Number of bus seats: 6\n",
      "Number of bus needed: 1.0\n",
      "In last bus number of people: 6\n"
     ]
    }
   ],
   "source": [
    "peop = int(input(\"Number of people: \"))\n",
    "bus  = int(input(\"Number of bus seats: \"))\n",
    "\n",
    "div  = round(peop / bus)\n",
    "\n",
    "if (div <= 0) :\n",
    "    print(\"Number of bus needed: \" + str(1))\n",
    "else:\n",
    "    print(\"Number of bus needed: \" + str(div))\n",
    "cal = round(peop % bus)\n",
    "if (cal == 0):\n",
    "    print(\"In last bus number of people: \" + str(bus))\n",
    "else:\n",
    "    print(\"In last bus number of people: \" + str(cal))"
   ]
  },
  {
   "cell_type": "markdown",
   "metadata": {},
   "source": [
    "a"
   ]
  },
  {
   "cell_type": "code",
   "execution_count": 2,
   "metadata": {},
   "outputs": [
    {
     "name": "stdout",
     "output_type": "stream",
     "text": [
      "before fun def: a=1000, b=2000, c=3000\n",
      "inside fun def: a=10, b=20, c=30\n",
      "p=3000\n",
      "after fun def: a=1000, b=2000, c=3000\n"
     ]
    }
   ],
   "source": [
    "a=1000\n",
    "b=2000\n",
    "c=a+b\n",
    "print \"before fun def: a=%s, b=%s, c=%s\"%(a,b,c)\n",
    "p=3000\n",
    "def fun(a,b):\n",
    "    c=a+b\n",
    "    print \"inside fun def: a=%s, b=%s, c=%s\"%(a,b,c)\n",
    "    print \"p=%s\"%p\n",
    "fun(10,20)\n",
    "print \"after fun def: a=%s, b=%s, c=%s\"%(a,b,c)\n",
    "\n",
    "\n",
    "    "
   ]
  },
  {
   "cell_type": "code",
   "execution_count": 5,
   "metadata": {
    "scrolled": true
   },
   "outputs": [
    {
     "name": "stdout",
     "output_type": "stream",
     "text": [
      "<function fun1 at 0x0000000004A14748>\n",
      "<type 'function'>\n"
     ]
    }
   ],
   "source": [
    "def fun1():\n",
    "    print \"this is fun1\"\n",
    "print fun1\n",
    "print type(fun1)"
   ]
  },
  {
   "cell_type": "code",
   "execution_count": 6,
   "metadata": {},
   "outputs": [
    {
     "name": "stdout",
     "output_type": "stream",
     "text": [
      "f= <function fun1 at 0x0000000004A14898>\n"
     ]
    }
   ],
   "source": [
    "def fun1():\n",
    "    print \"this is fun1\"\n",
    "f=fun1\n",
    "print \"f=\",f"
   ]
  },
  {
   "cell_type": "code",
   "execution_count": 10,
   "metadata": {},
   "outputs": [
    {
     "name": "stdout",
     "output_type": "stream",
     "text": [
      "this is fun1\n",
      "res= None\n"
     ]
    }
   ],
   "source": [
    "def fun1(a,b):\n",
    "    print \"this is fun1\"\n",
    "    c=a+b\n",
    "res=fun1(10,20)\n",
    "print \"res=\",res"
   ]
  },
  {
   "cell_type": "code",
   "execution_count": 9,
   "metadata": {},
   "outputs": [
    {
     "data": {
      "text/plain": [
       "['nagarjuna']"
      ]
     },
     "execution_count": 9,
     "metadata": {},
     "output_type": "execute_result"
    }
   ],
   "source": [
    "s=\"nagarjuna\"\n",
    "s.split()"
   ]
  }
 ],
 "metadata": {
  "kernelspec": {
   "display_name": "Python 2",
   "language": "python",
   "name": "python2"
  },
  "language_info": {
   "codemirror_mode": {
    "name": "ipython",
    "version": 2
   },
   "file_extension": ".py",
   "mimetype": "text/x-python",
   "name": "python",
   "nbconvert_exporter": "python",
   "pygments_lexer": "ipython2",
   "version": "2.7.15"
  }
 },
 "nbformat": 4,
 "nbformat_minor": 2
}
