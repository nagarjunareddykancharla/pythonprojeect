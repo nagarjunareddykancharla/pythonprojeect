{
 "cells": [
  {
   "cell_type": "code",
   "execution_count": 1,
   "metadata": {},
   "outputs": [
    {
     "name": "stdout",
     "output_type": "stream",
     "text": [
      "#user#names$#\n"
     ]
    }
   ],
   "source": [
    "username=\"@#user#names$#@\"\n",
    "print username.strip(\"@\")"
   ]
  },
  {
   "cell_type": "code",
   "execution_count": 4,
   "metadata": {},
   "outputs": [
    {
     "name": "stdout",
     "output_type": "stream",
     "text": [
      "user#names$\n"
     ]
    }
   ],
   "source": [
    "username=\"@#user#names$#@\"\n",
    "print username.strip(\"@ #\")"
   ]
  },
  {
   "cell_type": "code",
   "execution_count": null,
   "metadata": {},
   "outputs": [],
   "source": []
  },
  {
   "cell_type": "code",
   "execution_count": 8,
   "metadata": {},
   "outputs": [
    {
     "name": "stdout",
     "output_type": "stream",
     "text": [
      "jayaram\n",
      "Nagarjuna\n",
      "anil kumar\n",
      "dhanush\n"
     ]
    }
   ],
   "source": [
    "s= \"jayaram;Nagarjuna;anil kumar;dhanush\"\n",
    "for i in s.split(\";\"):\n",
    "    print i"
   ]
  },
  {
   "cell_type": "code",
   "execution_count": 13,
   "metadata": {},
   "outputs": [
    {
     "name": "stdout",
     "output_type": "stream",
     "text": [
      "['jayaram;', 'Nagarjuna;', 'anil kumar;', 'dhanush']\n"
     ]
    }
   ],
   "source": [
    "s= \"jayaram;\\nNagarjuna;\\nanil kumar;\\ndhanush\"\n",
    "print s.splitlines()"
   ]
  },
  {
   "cell_type": "code",
   "execution_count": 14,
   "metadata": {},
   "outputs": [
    {
     "name": "stdout",
     "output_type": "stream",
     "text": [
      "0123\n",
      "0012\n"
     ]
    }
   ],
   "source": [
    "print \"123\".zfill(4)\n",
    "print \"12\".zfill(4)\n"
   ]
  },
  {
   "cell_type": "code",
   "execution_count": 18,
   "metadata": {},
   "outputs": [
    {
     "name": "stdout",
     "output_type": "stream",
     "text": [
      "0123\n",
      "  12\n"
     ]
    }
   ],
   "source": [
    "print \"123\".rjust(4,\"0\")\n",
    "print \"12\".rjust(4)"
   ]
  },
  {
   "cell_type": "code",
   "execution_count": null,
   "metadata": {},
   "outputs": [],
   "source": []
  }
 ],
 "metadata": {
  "kernelspec": {
   "display_name": "Python 2",
   "language": "python",
   "name": "python2"
  },
  "language_info": {
   "codemirror_mode": {
    "name": "ipython",
    "version": 2
   },
   "file_extension": ".py",
   "mimetype": "text/x-python",
   "name": "python",
   "nbconvert_exporter": "python",
   "pygments_lexer": "ipython2",
   "version": "2.7.15"
  }
 },
 "nbformat": 4,
 "nbformat_minor": 2
}
