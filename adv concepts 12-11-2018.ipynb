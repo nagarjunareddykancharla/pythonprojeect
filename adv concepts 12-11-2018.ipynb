{
 "cells": [
  {
   "cell_type": "code",
   "execution_count": 1,
   "metadata": {},
   "outputs": [],
   "source": [
    "def fun():\n",
    "    print \"st1\"\n",
    "    yield 10"
   ]
  },
  {
   "cell_type": "code",
   "execution_count": 2,
   "metadata": {},
   "outputs": [
    {
     "name": "stdout",
     "output_type": "stream",
     "text": [
      "res= <generator object fun at 0x0000000004467FC0>\n"
     ]
    }
   ],
   "source": [
    "def fun():\n",
    "    print \"st1\"\n",
    "    yield 10\n",
    "    print \"st2\"\n",
    "    yield 20\n",
    "res=fun()\n",
    "print \"res=\",res"
   ]
  },
  {
   "cell_type": "code",
   "execution_count": 3,
   "metadata": {},
   "outputs": [
    {
     "name": "stdout",
     "output_type": "stream",
     "text": [
      "res= <generator object fun at 0x00000000044A9750>\n",
      "st1\n",
      "r1= 10\n"
     ]
    }
   ],
   "source": [
    "def fun():\n",
    "    print \"st1\"\n",
    "    yield 10\n",
    "    print \"st2\"\n",
    "    yield 20\n",
    "res=fun()\n",
    "print \"res=\",res\n",
    "r1=res.next()\n",
    "print \"r1=\",r1"
   ]
  },
  {
   "cell_type": "code",
   "execution_count": 6,
   "metadata": {},
   "outputs": [
    {
     "name": "stdout",
     "output_type": "stream",
     "text": [
      "res= <generator object fun at 0x00000000044A9510>\n",
      "st1\n",
      "r1= 10\n",
      "st2\n",
      "r2= 20\n",
      "st3\n",
      "r3= 30\n"
     ]
    }
   ],
   "source": [
    "def fun():\n",
    "    print \"st1\"\n",
    "    yield 10\n",
    "    print \"st2\"\n",
    "    yield 20\n",
    "    print \"st3\"\n",
    "    yield 30\n",
    "res=fun()\n",
    "print \"res=\",res\n",
    "r1=res.next()\n",
    "print \"r1=\",r1\n",
    "r2=res.next()\n",
    "print \"r2=\",r2\n",
    "r3=res.next()\n",
    "print \"r3=\",r3"
   ]
  },
  {
   "cell_type": "code",
   "execution_count": 7,
   "metadata": {},
   "outputs": [
    {
     "data": {
      "text/plain": [
       "[0, 1, 2, 3, 4, 5, 6, 7, 8, 9]"
      ]
     },
     "execution_count": 7,
     "metadata": {},
     "output_type": "execute_result"
    }
   ],
   "source": [
    "range(10)"
   ]
  },
  {
   "cell_type": "code",
   "execution_count": 8,
   "metadata": {},
   "outputs": [
    {
     "data": {
      "text/plain": [
       "xrange(10)"
      ]
     },
     "execution_count": 8,
     "metadata": {},
     "output_type": "execute_result"
    }
   ],
   "source": [
    "xrange(10)"
   ]
  },
  {
   "cell_type": "code",
   "execution_count": 9,
   "metadata": {},
   "outputs": [
    {
     "name": "stdout",
     "output_type": "stream",
     "text": [
      "[0, 1, 2, 3, 4, 5, 6, 7, 8, 9]\n"
     ]
    }
   ],
   "source": [
    "def own_range(n):\n",
    "    i=0\n",
    "    l=[]\n",
    "    while i<n:\n",
    "        l.append(i)\n",
    "        i=i+1\n",
    "    return l\n",
    "print own_range(10)"
   ]
  },
  {
   "cell_type": "code",
   "execution_count": 11,
   "metadata": {},
   "outputs": [
    {
     "name": "stdout",
     "output_type": "stream",
     "text": [
      "[0, 1, 2, 3, 4, 5, 6, 7, 8, 9]\n"
     ]
    }
   ],
   "source": [
    "def own_range(n):\n",
    "    i=0\n",
    "    l=[]\n",
    "    while i<n:\n",
    "        l.append(i)\n",
    "        i=i+1\n",
    "    return l\n",
    "print own_range(10)"
   ]
  },
  {
   "cell_type": "code",
   "execution_count": 12,
   "metadata": {},
   "outputs": [
    {
     "name": "stdout",
     "output_type": "stream",
     "text": [
      "0\n",
      "1\n",
      "2\n",
      "3\n",
      "4\n",
      "5\n",
      "6\n",
      "7\n",
      "8\n",
      "9\n"
     ]
    }
   ],
   "source": [
    "def own_range(n):\n",
    "    i=0\n",
    "    l=[]\n",
    "    while i<n:\n",
    "        yield i\n",
    "        i=i+1\n",
    "res = own_range(10)\n",
    "for i in res:\n",
    "    print i"
   ]
  },
  {
   "cell_type": "code",
   "execution_count": 17,
   "metadata": {},
   "outputs": [
    {
     "ename": "StopIteration",
     "evalue": "",
     "output_type": "error",
     "traceback": [
      "\u001b[1;31m---------------------------------------------------------------------------\u001b[0m",
      "\u001b[1;31mStopIteration\u001b[0m                             Traceback (most recent call last)",
      "\u001b[1;32m<ipython-input-17-8f868ee6fba1>\u001b[0m in \u001b[0;36m<module>\u001b[1;34m()\u001b[0m\n\u001b[1;32m----> 1\u001b[1;33m \u001b[0mres\u001b[0m\u001b[1;33m.\u001b[0m\u001b[0mnext\u001b[0m\u001b[1;33m(\u001b[0m\u001b[1;33m)\u001b[0m\u001b[1;33m\u001b[0m\u001b[0m\n\u001b[0m",
      "\u001b[1;31mStopIteration\u001b[0m: "
     ]
    }
   ],
   "source": [
    "res.next()"
   ]
  },
  {
   "cell_type": "code",
   "execution_count": 22,
   "metadata": {},
   "outputs": [
    {
     "name": "stdout",
     "output_type": "stream",
     "text": [
      "Enter number:12\n",
      "this is even\n"
     ]
    }
   ],
   "source": [
    "n=float(raw_input(\"Enter number:\"))\n",
    "if n%2 ==0:\n",
    "    print \"this is even\"\n",
    "else:\n",
    "    print \"this is odd\""
   ]
  },
  {
   "cell_type": "code",
   "execution_count": 21,
   "metadata": {},
   "outputs": [
    {
     "name": "stdout",
     "output_type": "stream",
     "text": [
      "Enter number:12\n",
      "EVEN\n"
     ]
    }
   ],
   "source": [
    "n=float(raw_input(\"Enter number:\"))\n",
    "res=\"EVEN\" if n%2==0 else \"ODD\"\n",
    "print res"
   ]
  },
  {
   "cell_type": "code",
   "execution_count": 24,
   "metadata": {},
   "outputs": [
    {
     "name": "stdout",
     "output_type": "stream",
     "text": [
      "Enter number:-1\n",
      "-ve\n"
     ]
    }
   ],
   "source": [
    "#for positive or negative\n",
    "n=float(raw_input(\"Enter number:\"))\n",
    "res=\"+ve\" if n>2 else \"-ve\"\n",
    "print res"
   ]
  },
  {
   "cell_type": "code",
   "execution_count": 26,
   "metadata": {},
   "outputs": [
    {
     "name": "stdout",
     "output_type": "stream",
     "text": [
      "['+', '-', '+', '+', '-', '+']\n"
     ]
    }
   ],
   "source": [
    "#for positive or negative\n",
    "l=[10,-20,34,56,-98,35]\n",
    "#l=[\"+\",\"-\",\"+\",\"-\",\"+\",\"-\"]\n",
    "res=[]\n",
    "for i in l:\n",
    "    if i>0:\n",
    "        res.append(\"+\")\n",
    "    else:\n",
    "        res.append(\"-\")\n",
    "print res"
   ]
  },
  {
   "cell_type": "code",
   "execution_count": 28,
   "metadata": {},
   "outputs": [
    {
     "name": "stdout",
     "output_type": "stream",
     "text": [
      "['+', '-', '+', '+', '-', '+']\n"
     ]
    }
   ],
   "source": [
    "#for positive or negative\n",
    "l=[10,-20,34,56,-98,35]\n",
    "#l=[\"+\",\"-\",\"+\",\"-\",\"+\",\"-\"]\n",
    "res=[]\n",
    "for i in l:\n",
    "    \n",
    "        res.append(\"+\") if i>0 else res.append(\"-\")\n",
    "print res"
   ]
  },
  {
   "cell_type": "code",
   "execution_count": 29,
   "metadata": {},
   "outputs": [
    {
     "name": "stdout",
     "output_type": "stream",
     "text": [
      "[20, -10, 44, 66, -88, 45]\n"
     ]
    }
   ],
   "source": [
    "l=[10,-20,34,56,-98,35]\n",
    "res=[]\n",
    "for i in l:\n",
    "    res.append(i+10)\n",
    "print res"
   ]
  },
  {
   "cell_type": "code",
   "execution_count": 30,
   "metadata": {},
   "outputs": [
    {
     "name": "stdout",
     "output_type": "stream",
     "text": [
      "[20, -10, 44, 66, -88, 45]\n"
     ]
    }
   ],
   "source": [
    "l=[10,-20,34,56,-98,35]\n",
    "res=[i+10 for i in l]\n",
    "print res"
   ]
  },
  {
   "cell_type": "code",
   "execution_count": 34,
   "metadata": {},
   "outputs": [
    {
     "name": "stdout",
     "output_type": "stream",
     "text": [
      "<generator object createGenerator at 0x00000000045F1EE8>\n",
      "0\n",
      "1\n",
      "4\n"
     ]
    }
   ],
   "source": [
    "def createGenerator():\n",
    "    mylist = range(3)\n",
    "    for i in mylist:\n",
    "            yield i*i\n",
    "mygenerator = createGenerator() # create a generator\n",
    "print(mygenerator) # mygenerator is an object!\n",
    "for i in mygenerator:\n",
    "    print(i)"
   ]
  },
  {
   "cell_type": "code",
   "execution_count": 35,
   "metadata": {},
   "outputs": [
    {
     "name": "stdout",
     "output_type": "stream",
     "text": [
      "[20, -30, 44, 66, -108, 45]\n"
     ]
    }
   ],
   "source": [
    "l=[10,-20,34,56,-98,35]\n",
    "res=[i+10 if i>0 else i-10 for i in l]\n",
    "print res"
   ]
  },
  {
   "cell_type": "code",
   "execution_count": 36,
   "metadata": {},
   "outputs": [
    {
     "name": "stdout",
     "output_type": "stream",
     "text": [
      "['even', 'odd', 'even', 'even', 'odd', 'even']\n"
     ]
    }
   ],
   "source": [
    "#wap to print even or odd \n",
    "l=[10,-20,34,56,-98,35]\n",
    "res=[]\n",
    "for i in l:\n",
    "    if i>0:\n",
    "        res.append(\"even\")\n",
    "    else:\n",
    "        res.append(\"odd\")\n",
    "print res"
   ]
  },
  {
   "cell_type": "code",
   "execution_count": 40,
   "metadata": {},
   "outputs": [
    {
     "name": "stdout",
     "output_type": "stream",
     "text": [
      "['even', 'odd', 'even', 'even', 'odd', 'even', 'odd', 'odd']\n"
     ]
    }
   ],
   "source": [
    "l=[10,-20,34,56,-98,35,-0,-1]\n",
    "res=[]\n",
    "for i in l:\n",
    "    \n",
    "        res.append(\"even\") if i>0 else res.append(\"odd\")\n",
    "print res"
   ]
  },
  {
   "cell_type": "code",
   "execution_count": 42,
   "metadata": {},
   "outputs": [
    {
     "name": "stdout",
     "output_type": "stream",
     "text": [
      "[10, -20, 34, 56, -98]\n"
     ]
    }
   ],
   "source": [
    "\n",
    "for i in l:\n",
    "    if i%2 ==0:\n",
    "        res.append(i)\n",
    "print res"
   ]
  },
  {
   "cell_type": "code",
   "execution_count": 43,
   "metadata": {},
   "outputs": [
    {
     "name": "stdout",
     "output_type": "stream",
     "text": [
      "[10, 34, 56, 35]\n"
     ]
    }
   ],
   "source": [
    "#remove all negative values, if it is a positive decie whether it is even or odd\n",
    "l=[10,-20,34,56,-98,35,-0,-1]\n",
    "print [i for i in l if i>0]\n",
    "\n",
    "  \n"
   ]
  },
  {
   "cell_type": "code",
   "execution_count": 44,
   "metadata": {},
   "outputs": [
    {
     "name": "stdout",
     "output_type": "stream",
     "text": [
      "['Even', 'Even', 'Even', 'ODD']\n"
     ]
    }
   ],
   "source": [
    "#remove all negative values, if it is a positive decie whether it is even or odd\n",
    "l=[10,-20,34,56,-98,35,-0,-1]\n",
    "print [\"Even\" if i%2==0 else \"ODD\"  for i in l if i>0]\n",
    "\n",
    "  "
   ]
  },
  {
   "cell_type": "code",
   "execution_count": 45,
   "metadata": {},
   "outputs": [
    {
     "name": "stdout",
     "output_type": "stream",
     "text": [
      "['EVEN', 'EVEN', 'EVEN', 'EVEN', 'EVEN', 'ODD', 'EVEN', 'ODD']\n"
     ]
    }
   ],
   "source": [
    "def fun(n):\n",
    "    if n%2==0:\n",
    "        return \"EVEN\"\n",
    "    else:\n",
    "        return \"ODD\"\n",
    "l=[10,-20,34,56,-98,35,-0,-1]\n",
    "print [fun(i) for i in l ]\n",
    "\n",
    "    \n",
    "    "
   ]
  },
  {
   "cell_type": "code",
   "execution_count": 46,
   "metadata": {},
   "outputs": [
    {
     "name": "stdout",
     "output_type": "stream",
     "text": [
      "['EVEN', 'EVEN', 'EVEN', 'EVEN', 'EVEN', 'ODD', 'EVEN', 'ODD']\n",
      "['EVEN', 'EVEN', 'EVEN', 'EVEN', 'EVEN', 'ODD', 'EVEN', 'ODD']\n"
     ]
    }
   ],
   "source": [
    "def fun(n):\n",
    "    if n%2==0:\n",
    "        return \"EVEN\"\n",
    "    else:\n",
    "        return \"ODD\"\n",
    "l=[10,-20,34,56,-98,35,-0,-1]\n",
    "print [fun(i) for i in l ]\n",
    "print map(fun,l)\n",
    "    "
   ]
  },
  {
   "cell_type": "code",
   "execution_count": null,
   "metadata": {},
   "outputs": [],
   "source": [
    "#map,filter,"
   ]
  }
 ],
 "metadata": {
  "kernelspec": {
   "display_name": "Python 2",
   "language": "python",
   "name": "python2"
  },
  "language_info": {
   "codemirror_mode": {
    "name": "ipython",
    "version": 2
   },
   "file_extension": ".py",
   "mimetype": "text/x-python",
   "name": "python",
   "nbconvert_exporter": "python",
   "pygments_lexer": "ipython2",
   "version": "2.7.15"
  }
 },
 "nbformat": 4,
 "nbformat_minor": 2
}
