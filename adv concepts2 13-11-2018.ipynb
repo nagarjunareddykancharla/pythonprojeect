{
 "cells": [
  {
   "cell_type": "code",
   "execution_count": 1,
   "metadata": {},
   "outputs": [
    {
     "name": "stdout",
     "output_type": "stream",
     "text": [
      "30\n",
      "30\n"
     ]
    }
   ],
   "source": [
    "def fun(x,y):\n",
    "    return x+y\n",
    "f=lambda x,y:x+y\n",
    "print fun(10,20)\n",
    "print f(10,20)"
   ]
  },
  {
   "cell_type": "code",
   "execution_count": 2,
   "metadata": {},
   "outputs": [
    {
     "ename": "SyntaxError",
     "evalue": "invalid syntax (<ipython-input-2-f4d96b73bded>, line 8)",
     "output_type": "error",
     "traceback": [
      "\u001b[1;36m  File \u001b[1;32m\"<ipython-input-2-f4d96b73bded>\"\u001b[1;36m, line \u001b[1;32m8\u001b[0m\n\u001b[1;33m    return \"Even\" if x%2==0\u001b[0m\n\u001b[1;37m                           ^\u001b[0m\n\u001b[1;31mSyntaxError\u001b[0m\u001b[1;31m:\u001b[0m invalid syntax\n"
     ]
    }
   ],
   "source": [
    "#write a lambda function to return given value is even or odd\n",
    "def check_even(x):\n",
    "    if x%2==0:\n",
    "         return \"Even\"\n",
    "    else:\n",
    "        return \"ODD\"\n",
    "def check_even1(x):\n",
    "    return \"Even\" if x%2==0"
   ]
  },
  {
   "cell_type": "code",
   "execution_count": 4,
   "metadata": {},
   "outputs": [
    {
     "name": "stdout",
     "output_type": "stream",
     "text": [
      "12\n",
      "13\n",
      "34\n",
      "45\n"
     ]
    }
   ],
   "source": [
    "l=[\"12\",\"13\",\"34\",\"45\"]\n",
    "#[12,13,34,45]\n",
    "for i in l:\n",
    "    print int(i)"
   ]
  },
  {
   "cell_type": "code",
   "execution_count": 5,
   "metadata": {},
   "outputs": [
    {
     "name": "stdout",
     "output_type": "stream",
     "text": [
      "[12, 13, 34, 45]\n"
     ]
    }
   ],
   "source": [
    "l=[\"12\",\"13\",\"34\",\"45\"]\n",
    "#[12,13,34,45]\n",
    "res=[]\n",
    "for i in l:\n",
    "    res.append(int(i))\n",
    "print res"
   ]
  },
  {
   "cell_type": "code",
   "execution_count": 6,
   "metadata": {},
   "outputs": [
    {
     "name": "stdout",
     "output_type": "stream",
     "text": [
      "[12, 13, 34, 45]\n"
     ]
    }
   ],
   "source": [
    "l=[\"12\",\"13\",\"34\",\"45\"]\n",
    "#[12,13,34,45]\n",
    "print [int(i) for i in l]"
   ]
  },
  {
   "cell_type": "code",
   "execution_count": 7,
   "metadata": {},
   "outputs": [
    {
     "name": "stdout",
     "output_type": "stream",
     "text": [
      "[12, 13, 34, 45]\n"
     ]
    }
   ],
   "source": [
    "l=[\"12\",\"13\",\"34\",\"45\"]\n",
    "#[12,13,34,45]\n",
    "def fun(x):\n",
    "    return int(x)\n",
    "print map(fun,l)"
   ]
  },
  {
   "cell_type": "code",
   "execution_count": 8,
   "metadata": {},
   "outputs": [
    {
     "name": "stdout",
     "output_type": "stream",
     "text": [
      "[12, 13, 34, 45]\n"
     ]
    }
   ],
   "source": [
    "l=[\"12\",\"13\",\"34\",\"45\"]\n",
    "print map(lambda x:int(x),l)"
   ]
  },
  {
   "cell_type": "code",
   "execution_count": 9,
   "metadata": {},
   "outputs": [
    {
     "name": "stdout",
     "output_type": "stream",
     "text": [
      "[12, 13, 34, 45]\n"
     ]
    }
   ],
   "source": [
    "l=[\"12\",\"13\",\"34\",\"45\"]\n",
    "print map(int,l)"
   ]
  },
  {
   "cell_type": "code",
   "execution_count": 10,
   "metadata": {},
   "outputs": [
    {
     "name": "stdout",
     "output_type": "stream",
     "text": [
      "[10, 10, 10, 10]\n"
     ]
    }
   ],
   "source": [
    "l=[\"12\",\"13\",\"34\",\"45\"]\n",
    "print map(lambda x:10,l)"
   ]
  },
  {
   "cell_type": "code",
   "execution_count": 11,
   "metadata": {},
   "outputs": [
    {
     "name": "stdout",
     "output_type": "stream",
     "text": [
      "['Even', 'Odd', 'Even', 'Odd', 'Even', 'Odd', 'Even', 'Odd', 'Even', 'Odd']\n"
     ]
    }
   ],
   "source": [
    "def fun(x):\n",
    "    return \"Even\" if x%2==0 else \"Odd\"\n",
    "print map(fun,range(10))"
   ]
  },
  {
   "cell_type": "code",
   "execution_count": 13,
   "metadata": {},
   "outputs": [
    {
     "name": "stdout",
     "output_type": "stream",
     "text": [
      "[0, 1, 2, 3, 4, 5, 6, 7, 8, 9]\n"
     ]
    }
   ],
   "source": [
    "def fun(x):\n",
    "    return \"Even\" if x%2==0 else \"Odd\"\n",
    "\n",
    "print filter(fun,range(10))"
   ]
  },
  {
   "cell_type": "code",
   "execution_count": 14,
   "metadata": {},
   "outputs": [
    {
     "name": "stdout",
     "output_type": "stream",
     "text": [
      "[]\n"
     ]
    }
   ],
   "source": [
    "def fun(x):\n",
    "    return False\n",
    "\n",
    "print filter(fun,range(10))"
   ]
  },
  {
   "cell_type": "code",
   "execution_count": 15,
   "metadata": {},
   "outputs": [
    {
     "name": "stdout",
     "output_type": "stream",
     "text": [
      "[0, 1, 2, 3, 4, 5, 6, 7, 8, 9]\n"
     ]
    }
   ],
   "source": [
    "def fun(x):\n",
    "    return True\n",
    "\n",
    "print filter(fun,range(10))"
   ]
  },
  {
   "cell_type": "code",
   "execution_count": 16,
   "metadata": {},
   "outputs": [
    {
     "name": "stdout",
     "output_type": "stream",
     "text": [
      "[0, 2, 4, 6, 8]\n"
     ]
    }
   ],
   "source": [
    "def fun(x):\n",
    "    return False\n",
    "\n",
    "print filter(fun,range(10))"
   ]
  },
  {
   "cell_type": "code",
   "execution_count": 17,
   "metadata": {},
   "outputs": [
    {
     "name": "stdout",
     "output_type": "stream",
     "text": [
      "[0, 2, 4, 6, 8]\n"
     ]
    }
   ],
   "source": [
    "def fun(x):\n",
    "    if x%2==0:\n",
    "        return True\n",
    "    else:\n",
    "        return False\n",
    "\n",
    "print filter(fun,range(10))"
   ]
  },
  {
   "cell_type": "code",
   "execution_count": 19,
   "metadata": {},
   "outputs": [
    {
     "name": "stdout",
     "output_type": "stream",
     "text": [
      "[2, 4, 4, 4]\n"
     ]
    }
   ],
   "source": [
    "def fun(x):\n",
    "    if x%2==0:\n",
    "        return True\n",
    "    else:\n",
    "        return False\n",
    "\n",
    "print filter(fun,[1,2,3,4,4,4,5])"
   ]
  },
  {
   "cell_type": "code",
   "execution_count": null,
   "metadata": {},
   "outputs": [],
   "source": []
  }
 ],
 "metadata": {
  "kernelspec": {
   "display_name": "Python 2",
   "language": "python",
   "name": "python2"
  },
  "language_info": {
   "codemirror_mode": {
    "name": "ipython",
    "version": 2
   },
   "file_extension": ".py",
   "mimetype": "text/x-python",
   "name": "python",
   "nbconvert_exporter": "python",
   "pygments_lexer": "ipython2",
   "version": "2.7.15"
  }
 },
 "nbformat": 4,
 "nbformat_minor": 2
}
