{
 "cells": [
  {
   "cell_type": "code",
   "execution_count": 1,
   "metadata": {},
   "outputs": [
    {
     "name": "stdout",
     "output_type": "stream",
     "text": [
      "['EVEN', 'EVEN', 'EVEN', 'EVEN', 'EVEN', 'ODD', 'EVEN', 'ODD']\n"
     ]
    }
   ],
   "source": [
    "def fun(n):\n",
    "    if n%2==0:\n",
    "        return \"EVEN\"\n",
    "    else:\n",
    "        return \"ODD\"\n",
    "l=[10,-20,34,56,-98,35,-0,-1]\n",
    "print map(fun,l)\n",
    "    "
   ]
  },
  {
   "cell_type": "code",
   "execution_count": 2,
   "metadata": {},
   "outputs": [
    {
     "name": "stdout",
     "output_type": "stream",
     "text": [
      "1\n",
      "2\n",
      "3\n",
      "4\n"
     ]
    }
   ],
   "source": [
    "l1=[1,2,3,4]\n",
    "l2=[5,6,7,8]\n",
    "#[6,8,10,12]\n",
    "for i in l1:\n",
    "    print i"
   ]
  },
  {
   "cell_type": "code",
   "execution_count": 4,
   "metadata": {},
   "outputs": [
    {
     "name": "stdout",
     "output_type": "stream",
     "text": [
      "1 5\n",
      "2 6\n",
      "3 7\n",
      "4 8\n"
     ]
    }
   ],
   "source": [
    "l1=[1,2,3,4]\n",
    "l2=[5,6,7,8]\n",
    "#[6,8,10,12]\n",
    "i=0\n",
    "while i<len(l1):\n",
    "    print l1[i],l2[i]\n",
    "    i=i+1"
   ]
  },
  {
   "cell_type": "code",
   "execution_count": 5,
   "metadata": {},
   "outputs": [
    {
     "name": "stdout",
     "output_type": "stream",
     "text": [
      "[6, 8, 10, 12]\n"
     ]
    }
   ],
   "source": [
    "l1=[1,2,3,4]\n",
    "l2=[5,6,7,8]\n",
    "#[6,8,10,12]\n",
    "i=0\n",
    "res=[]\n",
    "while i<len(l1):\n",
    "    res.append(l1[i]+l2[i])\n",
    "    i=i+1\n",
    "print res"
   ]
  },
  {
   "cell_type": "code",
   "execution_count": null,
   "metadata": {},
   "outputs": [],
   "source": []
  },
  {
   "cell_type": "code",
   "execution_count": 7,
   "metadata": {},
   "outputs": [
    {
     "name": "stdout",
     "output_type": "stream",
     "text": [
      "[6, 8, 10, 12]\n"
     ]
    }
   ],
   "source": [
    "l1=[1,2,3,4]\n",
    "l2=[5,6,7,8]\n",
    "#[6,8,10,12]\n",
    "print [val+l2[ind] for ind, val in enumerate(l1)]"
   ]
  },
  {
   "cell_type": "code",
   "execution_count": 8,
   "metadata": {},
   "outputs": [
    {
     "name": "stdout",
     "output_type": "stream",
     "text": [
      "[6, 8, 10, 12]\n"
     ]
    }
   ],
   "source": [
    "l1=[1,2,3,4]\n",
    "l2=[5,6,7,8]\n",
    "#[6,8,10,12]\n",
    "print [i+j for i,j in zip(l1,l2)]"
   ]
  },
  {
   "cell_type": "code",
   "execution_count": 15,
   "metadata": {},
   "outputs": [
    {
     "name": "stdout",
     "output_type": "stream",
     "text": [
      "x=1, y=5\n",
      "x=2, y=6\n",
      "x=3, y=7\n",
      "x=4, y=8\n",
      "[6, 8, 10, 12]\n"
     ]
    }
   ],
   "source": [
    "def fun(x,y):\n",
    "    print \"x=%s, y=%s\"%(x,y)\n",
    "    return x+y\n",
    "l1=[1,2,3,4]\n",
    "l2=[5,6,7,8]\n",
    "print map(fun,l1,l2)"
   ]
  },
  {
   "cell_type": "code",
   "execution_count": 14,
   "metadata": {},
   "outputs": [
    {
     "name": "stdout",
     "output_type": "stream",
     "text": [
      " x=k2, y=k3\n",
      "x=k1, y=k4\n",
      "['k2k3', 'k1k4']\n"
     ]
    }
   ],
   "source": [
    "def fun(x,y):\n",
    "    print \"x=%s, y=%s\"%(x,y)\n",
    "    return x+y\n",
    "\n",
    "print map(fun, {\"k1\":\"v1\",\"k2\":\"v2\"},{\"k3\":\"v3\",\"k4\":\"v4\"})"
   ]
  },
  {
   "cell_type": "code",
   "execution_count": 17,
   "metadata": {},
   "outputs": [
    {
     "name": "stdout",
     "output_type": "stream",
     "text": [
      " x=a, y=i\n",
      "x=b, y=j\n",
      "x=c, y=k\n",
      "x=d, y=l\n",
      "['ai', 'bj', 'ck', 'dl']\n"
     ]
    }
   ],
   "source": [
    "s1=\"abcd\"\n",
    "s2=\"ijkl\"\n",
    "#[ai,bj, ck,dl]\n",
    "def fun(x,y):\n",
    "    print \"x=%s, y=%s\"%(x,y)\n",
    "    return x+y\n",
    "print map(fun,s1,s2)"
   ]
  },
  {
   "cell_type": "code",
   "execution_count": null,
   "metadata": {},
   "outputs": [],
   "source": [
    "s1=\"abcd\"\n",
    "s2=\"ijkl\"\n",
    "#[ai,bj, ck,dl]\n",
    "i=0\n",
    "res=[]\n",
    "while i<len(s1):\n",
    "    res.append(s1[i]+s2[i])\n",
    "    i=i+1\n",
    "print res"
   ]
  },
  {
   "cell_type": "code",
   "execution_count": null,
   "metadata": {},
   "outputs": [],
   "source": [
    "def fun(x,y):\n",
    "    return x+y"
   ]
  },
  {
   "cell_type": "code",
   "execution_count": null,
   "metadata": {},
   "outputs": [],
   "source": [
    "def fun(x,y):\n",
    "    return x+y\n",
    "f=lambda x,y:x+y\n",
    "print fun(10,20)\n",
    "print f(10,20)"
   ]
  },
  {
   "cell_type": "code",
   "execution_count": null,
   "metadata": {},
   "outputs": [],
   "source": []
  }
 ],
 "metadata": {
  "kernelspec": {
   "display_name": "Python 2",
   "language": "python",
   "name": "python2"
  },
  "language_info": {
   "codemirror_mode": {
    "name": "ipython",
    "version": 2
   },
   "file_extension": ".py",
   "mimetype": "text/x-python",
   "name": "python",
   "nbconvert_exporter": "python",
   "pygments_lexer": "ipython2",
   "version": "2.7.15"
  }
 },
 "nbformat": 4,
 "nbformat_minor": 2
}
